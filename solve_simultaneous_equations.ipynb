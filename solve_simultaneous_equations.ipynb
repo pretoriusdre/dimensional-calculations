{
 "cells": [
  {
   "cell_type": "code",
   "execution_count": 1,
   "metadata": {},
   "outputs": [
    {
     "name": "stdout",
     "output_type": "stream",
     "text": [
      "{a: 4, b: 6}\n"
     ]
    }
   ],
   "source": [
    "import sympy as sym\n",
    "a,b,c,d,e,f,g = sym.symbols('a,b,c,d,e,f,g')\n",
    "eq1 = sym.Eq(a+b,10)\n",
    "eq2 = sym.Eq(a+2*b,16)\n",
    "eq3 = sym.Eq(0,0)\n",
    "eq4 = sym.Eq(0,0)\n",
    "eq5 = sym.Eq(0,0)\n",
    "\n",
    "result = sym.solve([eq1,eq2, eq3, eq4, eq5], (a,b,c,d,e,f,g))\n",
    "print(result)"
   ]
  },
  {
   "cell_type": "code",
   "execution_count": 2,
   "metadata": {},
   "outputs": [
    {
     "name": "stdout",
     "output_type": "stream",
     "text": [
      "{a: 50, height: 10}\n"
     ]
    }
   ],
   "source": [
    "import sympy as sym\n",
    "import string\n",
    "\n",
    "letters = list(string.ascii_lowercase)\n",
    "other_variables = ['height', 'length', 'width', 'area', 'volume','mass' 'age', 'speed', 'distance', 'time', 'units']\n",
    "\n",
    "all_variables_str = letters + other_variables\n",
    "all_variables_sym = []\n",
    "\n",
    "for variable_str in all_variables_str:\n",
    "    # Generally it is bad practice to use exec, but here it is ok\n",
    "    exec(variable_str + ' = sym.symbols(variable_str)')\n",
    "    exec('all_variables_sym.append(variable_str)')\n",
    "\n",
    "        \n",
    "#Equation list here\n",
    "eq1 = sym.Eq(a,5*height)\n",
    "eq2 = sym.Eq(height,10)\n",
    "eq3 = sym.Eq(0,0)\n",
    "eq4 = sym.Eq(0,0)\n",
    "eq5 = sym.Eq(0,0)\n",
    "eq6 = sym.Eq(0,0)\n",
    "eq7 = sym.Eq(0,0)\n",
    "eq8 = sym.Eq(0,0)\n",
    "\n",
    "result = sym.solve([eq1,eq2, eq3, eq4, eq5, eq6, eq8], tuple(all_variables_sym))\n",
    "print(result)"
   ]
  },
  {
   "cell_type": "code",
   "execution_count": 3,
   "metadata": {},
   "outputs": [
    {
     "name": "stdout",
     "output_type": "stream",
     "text": [
      "[(-3,), (3,)]\n"
     ]
    }
   ],
   "source": [
    "import sympy as sym\n",
    "x = sym.symbols('x')\n",
    "eq1 = sym.Eq(x**2,9)\n",
    "eq2 = sym.Eq(0,0)\n",
    "eq3 = sym.Eq(0,0)\n",
    "eq4 = sym.Eq(0,0)\n",
    "eq5 = sym.Eq(0,0)\n",
    "\n",
    "result = sym.solve([eq1,eq2, eq3, eq4, eq5], x)\n",
    "print(result)"
   ]
  }
 ],
 "metadata": {
  "kernelspec": {
   "display_name": "Python 3 (ipykernel)",
   "language": "python",
   "name": "python3"
  },
  "language_info": {
   "codemirror_mode": {
    "name": "ipython",
    "version": 3
   },
   "file_extension": ".py",
   "mimetype": "text/x-python",
   "name": "python",
   "nbconvert_exporter": "python",
   "pygments_lexer": "ipython3",
   "version": "3.11.5"
  },
  "latex_envs": {
   "LaTeX_envs_menu_present": true,
   "autoclose": false,
   "autocomplete": true,
   "bibliofile": "biblio.bib",
   "cite_by": "apalike",
   "current_citInitial": 1,
   "eqLabelWithNumbers": true,
   "eqNumInitial": 1,
   "hotkeys": {
    "equation": "Ctrl-E",
    "itemize": "Ctrl-I"
   },
   "labels_anchors": false,
   "latex_user_defs": false,
   "report_style_numbering": false,
   "user_envs_cfg": false
  }
 },
 "nbformat": 4,
 "nbformat_minor": 4
}
