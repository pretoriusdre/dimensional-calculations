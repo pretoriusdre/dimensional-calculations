{
 "cells": [
  {
   "cell_type": "markdown",
   "metadata": {},
   "source": [
    "# Calculation for xxxxxx"
   ]
  },
  {
   "cell_type": "code",
   "execution_count": 13,
   "metadata": {},
   "outputs": [],
   "source": [
    "import pint\n",
    "import pandas as pd\n",
    "import numpy as np\n",
    "import matplotlib.pyplot as plt\n",
    "import handcalcs.render"
   ]
  },
  {
   "cell_type": "markdown",
   "metadata": {},
   "source": [
    "### Define units and parameters"
   ]
  },
  {
   "cell_type": "code",
   "execution_count": 15,
   "metadata": {},
   "outputs": [],
   "source": [
    "ureg = pint.UnitRegistry(auto_reduce_dimensions=True)\n",
    "ureg.default_format = \"~\" #Short-form units\n",
    "ureg.define('''USD = [currency]\n",
    "                AUD = 0.71 USD''')\n",
    "\n",
    "\n",
    "ureg.define('MMBTU = 1055055852 J')\n",
    "ureg.setup_matplotlib(True)\n",
    "ureg.default_format = '.3f'\n",
    "Q_ = ureg.Quantity\n",
    "\n",
    "# Standard offshore chemical tote size\n",
    "ureg.define('''tote = 3800 L''')\n",
    "\n",
    "\n",
    "#Parameters\n",
    "LNG_density = Q_('450 kg/m^3')\n",
    "LNG_price = Q_('8.5 USD / MMBTU')\n",
    "LNG_LHV = Q_('45 MJ / kg')\n",
    "energy_usage = Q_('850 GW.hr/year')\n"
   ]
  },
  {
   "cell_type": "markdown",
   "metadata": {},
   "source": [
    "### Calculations"
   ]
  },
  {
   "cell_type": "code",
   "execution_count": 16,
   "metadata": {},
   "outputs": [
    {
     "data": {
      "text/latex": [
       "\\[\n",
       "\\begin{aligned}\n",
       "\\mathrm{cost} &= \\left( \\mathrm{energy}_{usage} \\cdot \\mathrm{LNG}_{price} \\right)  = \\left( 0.097\\ \\mathrm{gigawatt} \\cdot 8.500\\ \\frac{\\mathrm{USD}}{\\mathrm{MMBTU}} \\right) &= 24652723.314\\ \\frac{\\mathrm{USD}}{\\mathrm{year}}  \n",
       "\\\\[10pt]\n",
       "\\mathrm{cost} &= 24652723.314\\ \\frac{\\mathrm{USD}}{\\mathrm{year}} \\; \n",
       "\\end{aligned}\n",
       "\\]"
      ],
      "text/plain": [
       "<IPython.core.display.Latex object>"
      ]
     },
     "metadata": {},
     "output_type": "display_data"
    }
   ],
   "source": [
    "%%render\n",
    "cost = (energy_usage * LNG_price).to('USD/year')\n",
    "cost"
   ]
  },
  {
   "cell_type": "code",
   "execution_count": 19,
   "metadata": {},
   "outputs": [],
   "source": [
    "oil_rate_bod =  Q_('39747 m^3/day')\n",
    "asphaltene_ppm_bod =  Q_('500 ppm')\n",
    "storage_time =  Q_('14 day')"
   ]
  },
  {
   "cell_type": "code",
   "execution_count": 20,
   "metadata": {},
   "outputs": [
    {
     "data": {
      "text/html": [
       "19.8735 meter<sup>3</sup>/day"
      ],
      "text/latex": [
       "$19.8735\\ \\frac{\\mathrm{meter}^{3}}{\\mathrm{day}}$"
      ],
      "text/plain": [
       "19.8735 <Unit('meter ** 3 / day')>"
      ]
     },
     "execution_count": 20,
     "metadata": {},
     "output_type": "execute_result"
    }
   ],
   "source": [
    "asphaltene_design_rate_bod = asphaltene_ppm_bod * oil_rate_bod\n",
    "asphaltene_design_rate_bod"
   ]
  },
  {
   "cell_type": "code",
   "execution_count": 11,
   "metadata": {},
   "outputs": [
    {
     "data": {
      "text/html": [
       "5.229868421052632 tote/day"
      ],
      "text/latex": [
       "$5.229868421052632\\ \\frac{\\mathrm{tote}}{\\mathrm{day}}$"
      ],
      "text/plain": [
       "5.229868421052632 <Unit('tote / day')>"
      ]
     },
     "execution_count": 11,
     "metadata": {},
     "output_type": "execute_result"
    }
   ],
   "source": [
    "asphaltene_design_rate_bod.to('tote / day')"
   ]
  },
  {
   "cell_type": "code",
   "execution_count": 21,
   "metadata": {},
   "outputs": [
    {
     "data": {
      "text/html": [
       "278.229 meter<sup>3</sup>"
      ],
      "text/latex": [
       "$278.229\\ \\mathrm{meter}^{3}$"
      ],
      "text/plain": [
       "278.229 <Unit('meter ** 3')>"
      ]
     },
     "execution_count": 21,
     "metadata": {},
     "output_type": "execute_result"
    }
   ],
   "source": [
    "asphaltene_design_storage_bod = asphaltene_design_rate_bod * storage_time\n",
    "asphaltene_design_storage_bod"
   ]
  }
 ],
 "metadata": {
  "kernelspec": {
   "display_name": "base",
   "language": "python",
   "name": "python3"
  },
  "language_info": {
   "codemirror_mode": {
    "name": "ipython",
    "version": 3
   },
   "file_extension": ".py",
   "mimetype": "text/x-python",
   "name": "python",
   "nbconvert_exporter": "python",
   "pygments_lexer": "ipython3",
   "version": "3.11.5"
  }
 },
 "nbformat": 4,
 "nbformat_minor": 2
}
