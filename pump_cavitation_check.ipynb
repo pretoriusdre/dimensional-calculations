{
 "cells": [
  {
   "cell_type": "code",
   "execution_count": 11,
   "metadata": {},
   "outputs": [],
   "source": [
    "import pint\n",
    "import pandas as pd\n",
    "import numpy as np\n",
    "import matplotlib.pyplot as plt"
   ]
  },
  {
   "cell_type": "code",
   "execution_count": 2,
   "metadata": {},
   "outputs": [],
   "source": [
    "# Quick check of cavitation issue on (redacted) pumps which are experiencing cavitation at suction tank levels"
   ]
  },
  {
   "cell_type": "code",
   "execution_count": 12,
   "metadata": {
    "scrolled": true
   },
   "outputs": [],
   "source": [
    "ureg.setup_matplotlib(True)\n",
    "Q_ = ureg.Quantity"
   ]
  },
  {
   "cell_type": "code",
   "execution_count": 13,
   "metadata": {},
   "outputs": [],
   "source": [
    "#Parameters\n",
    "\n",
    "measured_liquid_level = Q_('18.9m')\n",
    "measured_pressure_g = Q_('1.2 bar')\n",
    "crude_density = Q_('834.1 kg / m^3')\n",
    "g = Q_('9.81 m/s^2')\n",
    "strainer_dp_normal = Q_('0.1 bar')\n",
    "strainer_dp_alarm = Q_('0.3 bar')\n",
    "crude_TVP = Q_('1 atm') + Q_('7 kPa')\n",
    "existing_NPSHr = Q_('5 m')"
   ]
  },
  {
   "cell_type": "code",
   "execution_count": 14,
   "metadata": {},
   "outputs": [
    {
     "data": {
      "text/html": [
       "<table><tbody><tr><th>Magnitude</th><td style='text-align:left;'><pre>[ 3  4  5  6  7  8  9 10 11 12 13 14 15 16 17 18 19 20 21 22 23]</pre></td></tr><tr><th>Units</th><td style='text-align:left;'>m</td></tr></tbody></table>"
      ],
      "text/latex": [
       "$\\begin{pmatrix} &  &  &  &  &  &  &  &  &  &  &  &  &  &  &  &  &  &  &  & \\end{pmatrix}\\ \\mathrm{m}$"
      ],
      "text/plain": [
       "array([ 3,  4,  5,  6,  7,  8,  9, 10, 11, 12, 13, 14, 15, 16, 17, 18, 19,\n",
       "       20, 21, 22, 23]) <Unit('meter')>"
      ]
     },
     "execution_count": 14,
     "metadata": {},
     "output_type": "execute_result"
    }
   ],
   "source": [
    "levels = np.arange(3,24,1) * Q_('1 m')\n",
    "levels"
   ]
  },
  {
   "cell_type": "code",
   "execution_count": 15,
   "metadata": {},
   "outputs": [
    {
     "data": {
      "text/html": [
       "<table><tbody><tr><th>Magnitude</th><td style='text-align:left;'><pre>[-0.10102083900000003 -0.019195628999999936 0.06262958099999993<br> 0.1444547909999998 0.2262800009999999 0.308105211 0.38993042099999997<br> 0.47175563100000006 0.5535808409999999 0.635406051 0.717231261<br> 0.799056471 0.880881681 0.9627068910000001 1.0445321010000002 1.126357311<br> 1.2081825210000001 1.290007731 1.371832941 1.4536581510000002<br> 1.5354833610000003]</pre></td></tr><tr><th>Units</th><td style='text-align:left;'>bar</td></tr></tbody></table>"
      ],
      "text/latex": [
       "$\\begin{pmatrix} &  &  &  &  &  &  &  &  &  &  &  &  &  &  &  &  &  &  &  & \\end{pmatrix}\\ \\mathrm{bar}$"
      ],
      "text/plain": [
       "array([-0.10102084, -0.01919563,  0.06262958,  0.14445479,  0.22628   ,\n",
       "        0.30810521,  0.38993042,  0.47175563,  0.55358084,  0.63540605,\n",
       "        0.71723126,  0.79905647,  0.88088168,  0.96270689,  1.0445321 ,\n",
       "        1.12635731,  1.20818252,  1.29000773,  1.37183294,  1.45365815,\n",
       "        1.53548336]) <Unit('bar')>"
      ]
     },
     "execution_count": 15,
     "metadata": {},
     "output_type": "execute_result"
    }
   ],
   "source": [
    "expected_pressure_at_strainer_g = measured_pressure_g + ((levels - measured_liquid_level) * crude_density * g)\n",
    "expected_pressure_at_strainer_g "
   ]
  },
  {
   "cell_type": "code",
   "execution_count": 16,
   "metadata": {},
   "outputs": [],
   "source": [
    "expected_pressure_at_pump_normal_g = expected_pressure_at_strainer_g  - strainer_dp_normal\n",
    "expected_pressure_at_pump_normal_a = expected_pressure_at_pump_normal_g + Q_('1 atm')\n",
    "NPSHa_normal = (expected_pressure_at_pump_normal_a - crude_TVP) / (g * Q_('1000 kg / m^3'))\n",
    "NPSHa_normal = NPSHa_normal.to('m')"
   ]
  },
  {
   "cell_type": "code",
   "execution_count": 17,
   "metadata": {},
   "outputs": [],
   "source": [
    "expected_pressure_at_pump_alarm_g = expected_pressure_at_strainer_g  - strainer_dp_alarm\n",
    "expected_pressure_at_pump_alarm_a = expected_pressure_at_pump_alarm_g + Q_('1 atm')\n",
    "NPSHa_alarm = (expected_pressure_at_pump_alarm_a - crude_TVP) / (g * Q_('1000 kg / m^3'))\n",
    "NPSHa_alarm = NPSHa_alarm.to('m')"
   ]
  },
  {
   "cell_type": "code",
   "execution_count": 18,
   "metadata": {},
   "outputs": [
    {
     "data": {
      "text/html": [
       "<div>\n",
       "<style scoped>\n",
       "    .dataframe tbody tr th:only-of-type {\n",
       "        vertical-align: middle;\n",
       "    }\n",
       "\n",
       "    .dataframe tbody tr th {\n",
       "        vertical-align: top;\n",
       "    }\n",
       "\n",
       "    .dataframe thead th {\n",
       "        text-align: right;\n",
       "    }\n",
       "</style>\n",
       "<table border=\"1\" class=\"dataframe\">\n",
       "  <thead>\n",
       "    <tr style=\"text-align: right;\">\n",
       "      <th></th>\n",
       "      <th>NPSHa_alarm</th>\n",
       "      <th>NPSHa_normal</th>\n",
       "    </tr>\n",
       "    <tr>\n",
       "      <th>levels</th>\n",
       "      <th></th>\n",
       "      <th></th>\n",
       "    </tr>\n",
       "  </thead>\n",
       "  <tbody>\n",
       "    <tr>\n",
       "      <th>3 m</th>\n",
       "      <td>-4.801435667686036 m</td>\n",
       "      <td>-2.7626996839959235 m</td>\n",
       "    </tr>\n",
       "    <tr>\n",
       "      <th>4 m</th>\n",
       "      <td>-3.967335667686035 m</td>\n",
       "      <td>-1.9285996839959223 m</td>\n",
       "    </tr>\n",
       "    <tr>\n",
       "      <th>5 m</th>\n",
       "      <td>-3.1332356676860367 m</td>\n",
       "      <td>-1.0944996839959236 m</td>\n",
       "    </tr>\n",
       "    <tr>\n",
       "      <th>6 m</th>\n",
       "      <td>-2.2991356676860377 m</td>\n",
       "      <td>-0.26039968399592606 m</td>\n",
       "    </tr>\n",
       "    <tr>\n",
       "      <th>7 m</th>\n",
       "      <td>-1.4650356676860368 m</td>\n",
       "      <td>0.5737003160040749 m</td>\n",
       "    </tr>\n",
       "    <tr>\n",
       "      <th>8 m</th>\n",
       "      <td>-0.6309356676860358 m</td>\n",
       "      <td>1.4078003160040757 m</td>\n",
       "    </tr>\n",
       "    <tr>\n",
       "      <th>9 m</th>\n",
       "      <td>0.2031643323139651 m</td>\n",
       "      <td>2.241900316004077 m</td>\n",
       "    </tr>\n",
       "    <tr>\n",
       "      <th>10 m</th>\n",
       "      <td>1.037264332313966 m</td>\n",
       "      <td>3.0760003160040776 m</td>\n",
       "    </tr>\n",
       "    <tr>\n",
       "      <th>11 m</th>\n",
       "      <td>1.8713643323139648 m</td>\n",
       "      <td>3.910100316004076 m</td>\n",
       "    </tr>\n",
       "    <tr>\n",
       "      <th>12 m</th>\n",
       "      <td>2.7054643323139653 m</td>\n",
       "      <td>4.744200316004077 m</td>\n",
       "    </tr>\n",
       "    <tr>\n",
       "      <th>13 m</th>\n",
       "      <td>3.5395643323139643 m</td>\n",
       "      <td>5.5783003160040785 m</td>\n",
       "    </tr>\n",
       "    <tr>\n",
       "      <th>14 m</th>\n",
       "      <td>4.3736643323139655 m</td>\n",
       "      <td>6.412400316004078 m</td>\n",
       "    </tr>\n",
       "    <tr>\n",
       "      <th>15 m</th>\n",
       "      <td>5.207764332313964 m</td>\n",
       "      <td>7.2465003160040755 m</td>\n",
       "    </tr>\n",
       "    <tr>\n",
       "      <th>16 m</th>\n",
       "      <td>6.041864332313965 m</td>\n",
       "      <td>8.080600316004078 m</td>\n",
       "    </tr>\n",
       "    <tr>\n",
       "      <th>17 m</th>\n",
       "      <td>6.875964332313965 m</td>\n",
       "      <td>8.914700316004078 m</td>\n",
       "    </tr>\n",
       "    <tr>\n",
       "      <th>18 m</th>\n",
       "      <td>7.710064332313965 m</td>\n",
       "      <td>9.748800316004077 m</td>\n",
       "    </tr>\n",
       "    <tr>\n",
       "      <th>19 m</th>\n",
       "      <td>8.544164332313965 m</td>\n",
       "      <td>10.582900316004075 m</td>\n",
       "    </tr>\n",
       "    <tr>\n",
       "      <th>20 m</th>\n",
       "      <td>9.378264332313965 m</td>\n",
       "      <td>11.417000316004074 m</td>\n",
       "    </tr>\n",
       "    <tr>\n",
       "      <th>21 m</th>\n",
       "      <td>10.212364332313967 m</td>\n",
       "      <td>12.251100316004075 m</td>\n",
       "    </tr>\n",
       "    <tr>\n",
       "      <th>22 m</th>\n",
       "      <td>11.046464332313967 m</td>\n",
       "      <td>13.085200316004078 m</td>\n",
       "    </tr>\n",
       "    <tr>\n",
       "      <th>23 m</th>\n",
       "      <td>11.880564332313964 m</td>\n",
       "      <td>13.91930031600408 m</td>\n",
       "    </tr>\n",
       "  </tbody>\n",
       "</table>\n",
       "</div>"
      ],
      "text/plain": [
       "                  NPSHa_alarm            NPSHa_normal\n",
       "levels                                               \n",
       "3 m      -4.801435667686036 m   -2.7626996839959235 m\n",
       "4 m      -3.967335667686035 m   -1.9285996839959223 m\n",
       "5 m     -3.1332356676860367 m   -1.0944996839959236 m\n",
       "6 m     -2.2991356676860377 m  -0.26039968399592606 m\n",
       "7 m     -1.4650356676860368 m    0.5737003160040749 m\n",
       "8 m     -0.6309356676860358 m    1.4078003160040757 m\n",
       "9 m      0.2031643323139651 m     2.241900316004077 m\n",
       "10 m      1.037264332313966 m    3.0760003160040776 m\n",
       "11 m     1.8713643323139648 m     3.910100316004076 m\n",
       "12 m     2.7054643323139653 m     4.744200316004077 m\n",
       "13 m     3.5395643323139643 m    5.5783003160040785 m\n",
       "14 m     4.3736643323139655 m     6.412400316004078 m\n",
       "15 m      5.207764332313964 m    7.2465003160040755 m\n",
       "16 m      6.041864332313965 m     8.080600316004078 m\n",
       "17 m      6.875964332313965 m     8.914700316004078 m\n",
       "18 m      7.710064332313965 m     9.748800316004077 m\n",
       "19 m      8.544164332313965 m    10.582900316004075 m\n",
       "20 m      9.378264332313965 m    11.417000316004074 m\n",
       "21 m     10.212364332313967 m    12.251100316004075 m\n",
       "22 m     11.046464332313967 m    13.085200316004078 m\n",
       "23 m     11.880564332313964 m     13.91930031600408 m"
      ]
     },
     "execution_count": 18,
     "metadata": {},
     "output_type": "execute_result"
    }
   ],
   "source": [
    "df = pd.DataFrame([levels, NPSHa_alarm, NPSHa_normal])\n",
    "df.index=['levels', 'NPSHa_alarm', 'NPSHa_normal']\n",
    "df = df.transpose()\n",
    "df.set_index('levels')\n"
   ]
  },
  {
   "cell_type": "code",
   "execution_count": 10,
   "metadata": {},
   "outputs": [
    {
     "data": {
      "text/plain": [
       "<matplotlib.lines.Line2D at 0x20bcf84f410>"
      ]
     },
     "execution_count": 10,
     "metadata": {},
     "output_type": "execute_result"
    },
    {
     "data": {
      "image/png": "[encoded data removed]",
      "text/plain": [
       "<Figure size 640x480 with 1 Axes>"
      ]
     },
     "metadata": {},
     "output_type": "display_data"
    }
   ],
   "source": [
    "fig, ax = plt.subplots()\n",
    "plt.plot(df['levels'], df['NPSHa_normal'], color = 'blue')\n",
    "plt.plot(df['levels'], df['NPSHa_alarm'], color = 'lightblue')\n",
    "ax.axhline(existing_NPSHr, color='tab:red')\n"
   ]
  }
 ],
 "metadata": {
  "kernelspec": {
   "display_name": "Python 3 (ipykernel)",
   "language": "python",
   "name": "python3"
  },
  "language_info": {
   "codemirror_mode": {
    "name": "ipython",
    "version": 3
   },
   "file_extension": ".py",
   "mimetype": "text/x-python",
   "name": "python",
   "nbconvert_exporter": "python",
   "pygments_lexer": "ipython3",
   "version": "3.11.5"
  },
  "latex_envs": {
   "LaTeX_envs_menu_present": true,
   "autoclose": false,
   "autocomplete": true,
   "bibliofile": "biblio.bib",
   "cite_by": "apalike",
   "current_citInitial": 1,
   "eqLabelWithNumbers": true,
   "eqNumInitial": 1,
   "hotkeys": {
    "equation": "Ctrl-E",
    "itemize": "Ctrl-I"
   },
   "labels_anchors": false,
   "latex_user_defs": false,
   "report_style_numbering": false,
   "user_envs_cfg": false
  }
 },
 "nbformat": 4,
 "nbformat_minor": 4
}
